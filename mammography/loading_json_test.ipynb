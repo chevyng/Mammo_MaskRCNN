{
 "cells": [
  {
   "cell_type": "code",
   "execution_count": 59,
   "metadata": {},
   "outputs": [],
   "source": [
    "import json\n",
    "import os\n",
    "import numpy as np"
   ]
  },
  {
   "cell_type": "code",
   "execution_count": 19,
   "metadata": {},
   "outputs": [],
   "source": [
    "path = '/home/chevy/Desktop/Github/Mammo_MaskRCNN/datasets/'\n",
    "annotations = json.load(open(os.path.join(path, 'mammo_test.json')))"
   ]
  },
  {
   "cell_type": "code",
   "execution_count": 20,
   "metadata": {},
   "outputs": [],
   "source": [
    "images = annotations['images']\n",
    "annos = annotations['annotations']"
   ]
  },
  {
   "cell_type": "code",
   "execution_count": 37,
   "metadata": {},
   "outputs": [],
   "source": [
    "annos_ids = []\n",
    "for i in range(len(annos)):\n",
    "    annos_ids.append(annos[i]['image_id'])"
   ]
  },
  {
   "cell_type": "code",
   "execution_count": 42,
   "metadata": {},
   "outputs": [
    {
     "data": {
      "text/plain": [
       "[{'bbox': [397.0, 807.0, 75, 66],\n",
       "  'area': 4950,\n",
       "  'iscrowd': 0,\n",
       "  'image_id': 9,\n",
       "  'category_id': 1,\n",
       "  'id': 21}]"
      ]
     },
     "execution_count": 42,
     "metadata": {},
     "output_type": "execute_result"
    }
   ],
   "source": [
    "annos[0:1]"
   ]
  },
  {
   "cell_type": "code",
   "execution_count": 52,
   "metadata": {},
   "outputs": [],
   "source": [
    "## Need to decide whether to use image_id or file_name as key\n",
    "d = {k:{} for k in annos_ids}\n",
    "for name in annos_ids:\n",
    "    idx = annos_ids.index(name)\n",
    "    d[name]['file_name'] = images[idx]['file_name']\n",
    "    d[name]['height'] = images[idx]['height']\n",
    "    d[name]['width'] = images[idx]['width']\n",
    "    d[name]['bbox'] = annos[idx]['bbox']\n",
    "    d[name]['area'] = annos[idx]['area']\n",
    "    d[name]['iscrowd'] = annos[idx]['iscrowd']\n",
    "    d[name]['image_id'] = annos[idx]['image_id']\n",
    "    d[name]['category_id'] = annos[idx]['category_id']\n",
    "    d[name]['id'] = annos[idx]['id']\n"
   ]
  },
  {
   "cell_type": "code",
   "execution_count": 57,
   "metadata": {},
   "outputs": [
    {
     "name": "stdout",
     "output_type": "stream",
     "text": [
      "(397.0, 807.0, 75, 66)\n"
     ]
    }
   ],
   "source": [
    "box = tuple(d[9]['bbox'])\n",
    "print(box)"
   ]
  },
  {
   "cell_type": "code",
   "execution_count": 31,
   "metadata": {},
   "outputs": [
    {
     "data": {
      "text/plain": [
       "[{'file_name': '1.2.840.113681.2229466362.959.3603083047.396.1_rot0.png',\n",
       "  'height': 1024,\n",
       "  'width': 832,\n",
       "  'id': 9},\n",
       " {'file_name': '1.2.840.113681.2229466362.959.3603083047.396.1_rot1.png',\n",
       "  'height': 832,\n",
       "  'width': 1024,\n",
       "  'id': 10},\n",
       " {'file_name': '1.2.840.113681.2229466362.959.3603083047.396.1_rot2.png',\n",
       "  'height': 1024,\n",
       "  'width': 832,\n",
       "  'id': 11},\n",
       " {'file_name': '1.2.840.113681.2229466362.959.3603083047.396.1_rot3.png',\n",
       "  'height': 832,\n",
       "  'width': 1024,\n",
       "  'id': 12},\n",
       " {'file_name': '1.2.840.113681.2229466362.959.3603083047.392.1_rot0.png',\n",
       "  'height': 1024,\n",
       "  'width': 832,\n",
       "  'id': 13},\n",
       " {'file_name': '1.2.840.113681.2229466362.959.3603083047.392.1_rot1.png',\n",
       "  'height': 832,\n",
       "  'width': 1024,\n",
       "  'id': 14},\n",
       " {'file_name': '1.2.840.113681.2229466362.959.3603083047.392.1_rot2.png',\n",
       "  'height': 1024,\n",
       "  'width': 832,\n",
       "  'id': 15},\n",
       " {'file_name': '1.2.840.113681.2229466362.959.3603083047.392.1_rot3.png',\n",
       "  'height': 832,\n",
       "  'width': 1024,\n",
       "  'id': 16},\n",
       " {'file_name': '1.2.840.113681.2229461008.961.3601270080.137.1_rot0.png',\n",
       "  'height': 1024,\n",
       "  'width': 832,\n",
       "  'id': 17},\n",
       " {'file_name': '1.2.840.113681.2229461008.961.3601270080.137.1_rot1.png',\n",
       "  'height': 832,\n",
       "  'width': 1024,\n",
       "  'id': 18},\n",
       " {'file_name': '1.2.840.113681.2229461008.961.3601270080.137.1_rot2.png',\n",
       "  'height': 1024,\n",
       "  'width': 832,\n",
       "  'id': 19},\n",
       " {'file_name': '1.2.840.113681.2229461008.961.3601270080.137.1_rot3.png',\n",
       "  'height': 832,\n",
       "  'width': 1024,\n",
       "  'id': 20},\n",
       " {'file_name': '1.2.840.113681.2229461008.961.3601270080.133.1_rot0.png',\n",
       "  'height': 1024,\n",
       "  'width': 832,\n",
       "  'id': 21},\n",
       " {'file_name': '1.2.840.113681.2229461008.961.3601270080.133.1_rot1.png',\n",
       "  'height': 832,\n",
       "  'width': 1024,\n",
       "  'id': 22},\n",
       " {'file_name': '1.2.840.113681.2229461008.961.3601270080.133.1_rot2.png',\n",
       "  'height': 1024,\n",
       "  'width': 832,\n",
       "  'id': 23},\n",
       " {'file_name': '1.2.840.113681.2229461008.961.3601270080.133.1_rot3.png',\n",
       "  'height': 832,\n",
       "  'width': 1024,\n",
       "  'id': 24},\n",
       " {'file_name': '1.2.840.113681.2229460924.932.3602305285.91.1_rot0.png',\n",
       "  'height': 1024,\n",
       "  'width': 788,\n",
       "  'id': 25},\n",
       " {'file_name': '1.2.840.113681.2229460924.932.3602305285.91.1_rot1.png',\n",
       "  'height': 788,\n",
       "  'width': 1024,\n",
       "  'id': 26},\n",
       " {'file_name': '1.2.840.113681.2229460924.932.3602305285.91.1_rot2.png',\n",
       "  'height': 1024,\n",
       "  'width': 788,\n",
       "  'id': 27},\n",
       " {'file_name': '1.2.840.113681.2229460924.932.3602305285.91.1_rot3.png',\n",
       "  'height': 788,\n",
       "  'width': 1024,\n",
       "  'id': 28}]"
      ]
     },
     "execution_count": 31,
     "metadata": {},
     "output_type": "execute_result"
    }
   ],
   "source": [
    "images"
   ]
  },
  {
   "cell_type": "code",
   "execution_count": 30,
   "metadata": {},
   "outputs": [
    {
     "name": "stdout",
     "output_type": "stream",
     "text": [
      "{'type': 'instances', 'annotations': [{'bbox': [397.0, 807.0, 75, 66], 'area': 4950, 'iscrowd': 0, 'image_id': 9, 'category_id': 1, 'id': 21}, {'bbox': [807.0, 360.0, 66, 75], 'area': 4950, 'iscrowd': 0, 'image_id': 10, 'category_id': 1, 'id': 22}, {'bbox': [360.0, 151.0, 75, 66], 'area': 4950, 'iscrowd': 0, 'image_id': 11, 'category_id': 1, 'id': 23}, {'bbox': [151.0, 397.0, 66, 75], 'area': 4950, 'iscrowd': 0, 'image_id': 12, 'category_id': 1, 'id': 24}, {'bbox': [324.0, 610.0, 76, 70], 'area': 5320, 'iscrowd': 0, 'image_id': 13, 'category_id': 1, 'id': 25}, {'bbox': [610.0, 432.0, 70, 76], 'area': 5320, 'iscrowd': 0, 'image_id': 14, 'category_id': 1, 'id': 26}, {'bbox': [432.0, 344.0, 76, 70], 'area': 5320, 'iscrowd': 0, 'image_id': 15, 'category_id': 1, 'id': 27}, {'bbox': [344.0, 324.0, 70, 76], 'area': 5320, 'iscrowd': 0, 'image_id': 16, 'category_id': 1, 'id': 28}, {'bbox': [704.0, 517.5, 78, 85], 'area': 6630, 'iscrowd': 0, 'image_id': 17, 'category_id': 1, 'id': 29}, {'bbox': [517.5, 50.0, 85, 78], 'area': 6630, 'iscrowd': 0, 'image_id': 18, 'category_id': 1, 'id': 30}, {'bbox': [50.0, 421.5, 78, 85], 'area': 6630, 'iscrowd': 0, 'image_id': 19, 'category_id': 1, 'id': 31}, {'bbox': [421.5, 704.0, 85, 78], 'area': 6630, 'iscrowd': 0, 'image_id': 20, 'category_id': 1, 'id': 32}, {'bbox': [694.5, 382.5, 91, 94], 'area': 8554, 'iscrowd': 0, 'image_id': 21, 'category_id': 1, 'id': 33}, {'bbox': [382.5, 46.5, 94, 91], 'area': 8554, 'iscrowd': 0, 'image_id': 22, 'category_id': 1, 'id': 34}, {'bbox': [46.5, 547.5, 91, 94], 'area': 8554, 'iscrowd': 0, 'image_id': 23, 'category_id': 1, 'id': 35}, {'bbox': [547.5, 694.5, 94, 91], 'area': 8554, 'iscrowd': 0, 'image_id': 24, 'category_id': 1, 'id': 36}, {'bbox': [499.5, 637.5, 52, 31], 'area': 1612, 'iscrowd': 0, 'image_id': 25, 'category_id': 1, 'id': 37}, {'bbox': [637.5, 236.5, 31, 52], 'area': 1612, 'iscrowd': 0, 'image_id': 26, 'category_id': 1, 'id': 38}, {'bbox': [236.5, 355.5, 52, 31], 'area': 1612, 'iscrowd': 0, 'image_id': 27, 'category_id': 1, 'id': 39}, {'bbox': [355.5, 499.5, 31, 52], 'area': 1612, 'iscrowd': 0, 'image_id': 28, 'category_id': 1, 'id': 40}], 'images': [{'file_name': '1.2.840.113681.2229466362.959.3603083047.396.1_rot0.png', 'height': 1024, 'width': 832, 'id': 9}, {'file_name': '1.2.840.113681.2229466362.959.3603083047.396.1_rot1.png', 'height': 832, 'width': 1024, 'id': 10}, {'file_name': '1.2.840.113681.2229466362.959.3603083047.396.1_rot2.png', 'height': 1024, 'width': 832, 'id': 11}, {'file_name': '1.2.840.113681.2229466362.959.3603083047.396.1_rot3.png', 'height': 832, 'width': 1024, 'id': 12}, {'file_name': '1.2.840.113681.2229466362.959.3603083047.392.1_rot0.png', 'height': 1024, 'width': 832, 'id': 13}, {'file_name': '1.2.840.113681.2229466362.959.3603083047.392.1_rot1.png', 'height': 832, 'width': 1024, 'id': 14}, {'file_name': '1.2.840.113681.2229466362.959.3603083047.392.1_rot2.png', 'height': 1024, 'width': 832, 'id': 15}, {'file_name': '1.2.840.113681.2229466362.959.3603083047.392.1_rot3.png', 'height': 832, 'width': 1024, 'id': 16}, {'file_name': '1.2.840.113681.2229461008.961.3601270080.137.1_rot0.png', 'height': 1024, 'width': 832, 'id': 17}, {'file_name': '1.2.840.113681.2229461008.961.3601270080.137.1_rot1.png', 'height': 832, 'width': 1024, 'id': 18}, {'file_name': '1.2.840.113681.2229461008.961.3601270080.137.1_rot2.png', 'height': 1024, 'width': 832, 'id': 19}, {'file_name': '1.2.840.113681.2229461008.961.3601270080.137.1_rot3.png', 'height': 832, 'width': 1024, 'id': 20}, {'file_name': '1.2.840.113681.2229461008.961.3601270080.133.1_rot0.png', 'height': 1024, 'width': 832, 'id': 21}, {'file_name': '1.2.840.113681.2229461008.961.3601270080.133.1_rot1.png', 'height': 832, 'width': 1024, 'id': 22}, {'file_name': '1.2.840.113681.2229461008.961.3601270080.133.1_rot2.png', 'height': 1024, 'width': 832, 'id': 23}, {'file_name': '1.2.840.113681.2229461008.961.3601270080.133.1_rot3.png', 'height': 832, 'width': 1024, 'id': 24}, {'file_name': '1.2.840.113681.2229460924.932.3602305285.91.1_rot0.png', 'height': 1024, 'width': 788, 'id': 25}, {'file_name': '1.2.840.113681.2229460924.932.3602305285.91.1_rot1.png', 'height': 788, 'width': 1024, 'id': 26}, {'file_name': '1.2.840.113681.2229460924.932.3602305285.91.1_rot2.png', 'height': 1024, 'width': 788, 'id': 27}, {'file_name': '1.2.840.113681.2229460924.932.3602305285.91.1_rot3.png', 'height': 788, 'width': 1024, 'id': 28}], 'categories': [{'id': 1, 'name': 'MALIGNANT'}, {'id': 2, 'name': 'BENIGN'}, {'id': 3, 'name': 'NORMAL'}]}\n"
     ]
    }
   ],
   "source": [
    "for a in annos:\n",
    "    img_id = a['image_id']\n",
    "    file_path = annos[]"
   ]
  },
  {
   "cell_type": "code",
   "execution_count": 22,
   "metadata": {},
   "outputs": [
    {
     "data": {
      "text/plain": [
       "[{'file_name': '1.2.840.113681.2229466362.959.3603083047.396.1_rot0.png',\n",
       "  'height': 1024,\n",
       "  'width': 832,\n",
       "  'id': 9},\n",
       " {'file_name': '1.2.840.113681.2229466362.959.3603083047.396.1_rot1.png',\n",
       "  'height': 832,\n",
       "  'width': 1024,\n",
       "  'id': 10},\n",
       " {'file_name': '1.2.840.113681.2229466362.959.3603083047.396.1_rot2.png',\n",
       "  'height': 1024,\n",
       "  'width': 832,\n",
       "  'id': 11},\n",
       " {'file_name': '1.2.840.113681.2229466362.959.3603083047.396.1_rot3.png',\n",
       "  'height': 832,\n",
       "  'width': 1024,\n",
       "  'id': 12},\n",
       " {'file_name': '1.2.840.113681.2229466362.959.3603083047.392.1_rot0.png',\n",
       "  'height': 1024,\n",
       "  'width': 832,\n",
       "  'id': 13},\n",
       " {'file_name': '1.2.840.113681.2229466362.959.3603083047.392.1_rot1.png',\n",
       "  'height': 832,\n",
       "  'width': 1024,\n",
       "  'id': 14},\n",
       " {'file_name': '1.2.840.113681.2229466362.959.3603083047.392.1_rot2.png',\n",
       "  'height': 1024,\n",
       "  'width': 832,\n",
       "  'id': 15},\n",
       " {'file_name': '1.2.840.113681.2229466362.959.3603083047.392.1_rot3.png',\n",
       "  'height': 832,\n",
       "  'width': 1024,\n",
       "  'id': 16},\n",
       " {'file_name': '1.2.840.113681.2229461008.961.3601270080.137.1_rot0.png',\n",
       "  'height': 1024,\n",
       "  'width': 832,\n",
       "  'id': 17},\n",
       " {'file_name': '1.2.840.113681.2229461008.961.3601270080.137.1_rot1.png',\n",
       "  'height': 832,\n",
       "  'width': 1024,\n",
       "  'id': 18},\n",
       " {'file_name': '1.2.840.113681.2229461008.961.3601270080.137.1_rot2.png',\n",
       "  'height': 1024,\n",
       "  'width': 832,\n",
       "  'id': 19},\n",
       " {'file_name': '1.2.840.113681.2229461008.961.3601270080.137.1_rot3.png',\n",
       "  'height': 832,\n",
       "  'width': 1024,\n",
       "  'id': 20},\n",
       " {'file_name': '1.2.840.113681.2229461008.961.3601270080.133.1_rot0.png',\n",
       "  'height': 1024,\n",
       "  'width': 832,\n",
       "  'id': 21},\n",
       " {'file_name': '1.2.840.113681.2229461008.961.3601270080.133.1_rot1.png',\n",
       "  'height': 832,\n",
       "  'width': 1024,\n",
       "  'id': 22},\n",
       " {'file_name': '1.2.840.113681.2229461008.961.3601270080.133.1_rot2.png',\n",
       "  'height': 1024,\n",
       "  'width': 832,\n",
       "  'id': 23},\n",
       " {'file_name': '1.2.840.113681.2229461008.961.3601270080.133.1_rot3.png',\n",
       "  'height': 832,\n",
       "  'width': 1024,\n",
       "  'id': 24},\n",
       " {'file_name': '1.2.840.113681.2229460924.932.3602305285.91.1_rot0.png',\n",
       "  'height': 1024,\n",
       "  'width': 788,\n",
       "  'id': 25},\n",
       " {'file_name': '1.2.840.113681.2229460924.932.3602305285.91.1_rot1.png',\n",
       "  'height': 788,\n",
       "  'width': 1024,\n",
       "  'id': 26},\n",
       " {'file_name': '1.2.840.113681.2229460924.932.3602305285.91.1_rot2.png',\n",
       "  'height': 1024,\n",
       "  'width': 788,\n",
       "  'id': 27},\n",
       " {'file_name': '1.2.840.113681.2229460924.932.3602305285.91.1_rot3.png',\n",
       "  'height': 788,\n",
       "  'width': 1024,\n",
       "  'id': 28}]"
      ]
     },
     "execution_count": 22,
     "metadata": {},
     "output_type": "execute_result"
    }
   ],
   "source": [
    "images"
   ]
  }
 ],
 "metadata": {
  "kernelspec": {
   "display_name": "Python 3",
   "language": "python",
   "name": "python3"
  },
  "language_info": {
   "codemirror_mode": {
    "name": "ipython",
    "version": 3
   },
   "file_extension": ".py",
   "mimetype": "text/x-python",
   "name": "python",
   "nbconvert_exporter": "python",
   "pygments_lexer": "ipython3",
   "version": "3.6.6"
  }
 },
 "nbformat": 4,
 "nbformat_minor": 2
}
